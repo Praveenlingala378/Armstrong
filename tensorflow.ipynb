{
  "nbformat": 4,
  "nbformat_minor": 0,
  "metadata": {
    "colab": {
      "provenance": [],
      "gpuType": "T4",
      "mount_file_id": "154OtDhQAH1Z5PjlXI_Cog3zE79k8FF99",
      "authorship_tag": "ABX9TyO/8H+af6ofmOSJnRd0Piee",
      "include_colab_link": true
    },
    "kernelspec": {
      "name": "python3",
      "display_name": "Python 3"
    },
    "language_info": {
      "name": "python"
    },
    "accelerator": "GPU"
  },
  "cells": [
    {
      "cell_type": "markdown",
      "metadata": {
        "id": "view-in-github",
        "colab_type": "text"
      },
      "source": [
        "<a href=\"https://colab.research.google.com/github/Praveenlingala378/Armstrong/blob/main/tensorflow.ipynb\" target=\"_parent\"><img src=\"https://colab.research.google.com/assets/colab-badge.svg\" alt=\"Open In Colab\"/></a>"
      ]
    },
    {
      "cell_type": "code",
      "execution_count": 3,
      "metadata": {
        "id": "Cxqil2UxOYUb"
      },
      "outputs": [],
      "source": [
        "import tensorflow as tf\n",
        "from tensorflow.keras.models import Sequential\n",
        "from tensorflow.keras.layers import Conv2D, MaxPooling2D, Flatten, Dense, Dropout\n",
        "from tensorflow.keras.preprocessing.image import ImageDataGenerator\n",
        "import numpy as np\n",
        "import os\n"
      ]
    },
    {
      "cell_type": "code",
      "source": [
        "# Path to the dataset directory\n",
        "dataset_dir = '/content/drive/MyDrive/dataset/'\n",
        "\n",
        "# Define data generators for training and validation with data augmentation\n",
        "train_datagen = ImageDataGenerator(\n",
        "    rescale=1./255,\n",
        "    rotation_range=10,\n",
        "    width_shift_range=0.1,\n",
        "    height_shift_range=0.1,\n",
        "    shear_range=0.1,\n",
        "    zoom_range=0.1,\n",
        "    horizontal_flip=True,\n",
        "    validation_split=0.2\n",
        ")\n",
        "\n",
        "train_generator = train_datagen.flow_from_directory(\n",
        "    dataset_dir,\n",
        "    target_size=(128, 128),\n",
        "    batch_size=32,\n",
        "    class_mode='categorical',\n",
        "    subset='training'\n",
        ")\n",
        "\n",
        "validation_generator = train_datagen.flow_from_directory(\n",
        "    dataset_dir,\n",
        "    target_size=(128, 128),\n",
        "    batch_size=32,\n",
        "    class_mode='categorical',\n",
        "    subset='validation'\n",
        ")\n"
      ],
      "metadata": {
        "colab": {
          "base_uri": "https://localhost:8080/"
        },
        "id": "LMgBxASDQUx4",
        "outputId": "e7692982-02ff-4ffe-ffbe-eaeb4051af29"
      },
      "execution_count": 4,
      "outputs": [
        {
          "output_type": "stream",
          "name": "stdout",
          "text": [
            "Found 172 images belonging to 3 classes.\n",
            "Found 42 images belonging to 3 classes.\n"
          ]
        }
      ]
    },
    {
      "cell_type": "code",
      "source": [
        "model = Sequential([\n",
        "    Conv2D(32, (3, 3), activation='relu', input_shape=(128, 128, 3)),\n",
        "    MaxPooling2D((2, 2)),\n",
        "    Conv2D(64, (3, 3), activation='relu'),\n",
        "    MaxPooling2D((2, 2)),\n",
        "    Conv2D(128, (3, 3), activation='relu'),\n",
        "    MaxPooling2D((2, 2)),\n",
        "    Flatten(),\n",
        "    Dense(512, activation='relu'),\n",
        "    Dropout(0.5),\n",
        "    Dense(len(train_generator.class_indices), activation='softmax')\n",
        "])\n",
        "\n",
        "model.compile(optimizer='adam',\n",
        "              loss='categorical_crossentropy',\n",
        "              metrics=['accuracy'])\n",
        "\n",
        "model.summary()\n"
      ],
      "metadata": {
        "colab": {
          "base_uri": "https://localhost:8080/"
        },
        "id": "pAbnwplRQZcx",
        "outputId": "5692a6e8-7a47-4bb4-d6f6-f4873ec1ff40"
      },
      "execution_count": 5,
      "outputs": [
        {
          "output_type": "stream",
          "name": "stdout",
          "text": [
            "Model: \"sequential\"\n",
            "_________________________________________________________________\n",
            " Layer (type)                Output Shape              Param #   \n",
            "=================================================================\n",
            " conv2d (Conv2D)             (None, 126, 126, 32)      896       \n",
            "                                                                 \n",
            " max_pooling2d (MaxPooling2  (None, 63, 63, 32)        0         \n",
            " D)                                                              \n",
            "                                                                 \n",
            " conv2d_1 (Conv2D)           (None, 61, 61, 64)        18496     \n",
            "                                                                 \n",
            " max_pooling2d_1 (MaxPoolin  (None, 30, 30, 64)        0         \n",
            " g2D)                                                            \n",
            "                                                                 \n",
            " conv2d_2 (Conv2D)           (None, 28, 28, 128)       73856     \n",
            "                                                                 \n",
            " max_pooling2d_2 (MaxPoolin  (None, 14, 14, 128)       0         \n",
            " g2D)                                                            \n",
            "                                                                 \n",
            " flatten (Flatten)           (None, 25088)             0         \n",
            "                                                                 \n",
            " dense (Dense)               (None, 512)               12845568  \n",
            "                                                                 \n",
            " dropout (Dropout)           (None, 512)               0         \n",
            "                                                                 \n",
            " dense_1 (Dense)             (None, 3)                 1539      \n",
            "                                                                 \n",
            "=================================================================\n",
            "Total params: 12940355 (49.36 MB)\n",
            "Trainable params: 12940355 (49.36 MB)\n",
            "Non-trainable params: 0 (0.00 Byte)\n",
            "_________________________________________________________________\n"
          ]
        }
      ]
    },
    {
      "cell_type": "code",
      "source": [
        "history = model.fit(\n",
        "    train_generator,\n",
        "    steps_per_epoch=train_generator.samples // train_generator.batch_size,\n",
        "    epochs=10,\n",
        "    validation_data=validation_generator,\n",
        "    validation_steps=validation_generator.samples // validation_generator.batch_size\n",
        ")\n"
      ],
      "metadata": {
        "colab": {
          "base_uri": "https://localhost:8080/"
        },
        "id": "ICo5WKXxQd-D",
        "outputId": "c56cb2d7-0d8c-42bd-fe9d-109c5b556507"
      },
      "execution_count": 6,
      "outputs": [
        {
          "output_type": "stream",
          "name": "stdout",
          "text": [
            "Epoch 1/10\n",
            "5/5 [==============================] - 32s 6s/step - loss: 1.7347 - accuracy: 0.4313 - val_loss: 1.0172 - val_accuracy: 0.6250\n",
            "Epoch 2/10\n",
            "5/5 [==============================] - 3s 733ms/step - loss: 1.0246 - accuracy: 0.5437 - val_loss: 0.9848 - val_accuracy: 0.5938\n",
            "Epoch 3/10\n",
            "5/5 [==============================] - 3s 546ms/step - loss: 1.0109 - accuracy: 0.5429 - val_loss: 1.0484 - val_accuracy: 0.5312\n",
            "Epoch 4/10\n",
            "5/5 [==============================] - 3s 736ms/step - loss: 1.0175 - accuracy: 0.5214 - val_loss: 1.0000 - val_accuracy: 0.5625\n",
            "Epoch 5/10\n",
            "5/5 [==============================] - 3s 723ms/step - loss: 0.9851 - accuracy: 0.5437 - val_loss: 0.9785 - val_accuracy: 0.5625\n",
            "Epoch 6/10\n",
            "5/5 [==============================] - 3s 615ms/step - loss: 0.9787 - accuracy: 0.5429 - val_loss: 1.0253 - val_accuracy: 0.4688\n",
            "Epoch 7/10\n",
            "5/5 [==============================] - 2s 485ms/step - loss: 0.9943 - accuracy: 0.5929 - val_loss: 1.0015 - val_accuracy: 0.5625\n",
            "Epoch 8/10\n",
            "5/5 [==============================] - 2s 501ms/step - loss: 0.9416 - accuracy: 0.5857 - val_loss: 1.0201 - val_accuracy: 0.5312\n",
            "Epoch 9/10\n",
            "5/5 [==============================] - 2s 509ms/step - loss: 0.9399 - accuracy: 0.5750 - val_loss: 1.0276 - val_accuracy: 0.5312\n",
            "Epoch 10/10\n",
            "5/5 [==============================] - 3s 716ms/step - loss: 0.9455 - accuracy: 0.5571 - val_loss: 0.9696 - val_accuracy: 0.5625\n"
          ]
        }
      ]
    },
    {
      "cell_type": "code",
      "source": [
        "# Save the trained model\n",
        "model.save('facial_recognition_model.h5')\n"
      ],
      "metadata": {
        "colab": {
          "base_uri": "https://localhost:8080/"
        },
        "id": "Jp-tx65GQiCq",
        "outputId": "c56a3a21-db12-4321-f8de-d7b2b04c2b7a"
      },
      "execution_count": 7,
      "outputs": [
        {
          "output_type": "stream",
          "name": "stderr",
          "text": [
            "/usr/local/lib/python3.10/dist-packages/keras/src/engine/training.py:3103: UserWarning: You are saving your model as an HDF5 file via `model.save()`. This file format is considered legacy. We recommend using instead the native Keras format, e.g. `model.save('my_model.keras')`.\n",
            "  saving_api.save_model(\n"
          ]
        }
      ]
    },
    {
      "cell_type": "code",
      "source": [
        "def predict_person(image_path):\n",
        "    img = tf.keras.preprocessing.image.load_img(image_path, target_size=(128, 128))\n",
        "    img_array = tf.keras.preprocessing.image.img_to_array(img)\n",
        "    img_array = np.expand_dims(img_array, axis=0) / 255.0\n",
        "\n",
        "    # Load the saved model\n",
        "    model = tf.keras.models.load_model('/content/facial_recognition_model.h5')\n",
        "\n",
        "    prediction = model.predict(img_array)\n",
        "    person_index = np.argmax(prediction)\n",
        "    person_name = list(train_generator.class_indices.keys())[person_index]\n",
        "\n",
        "    return person_name\n",
        "\n",
        "# Example usage:\n",
        "test_image_path = '/content/Akshay Kumar_3.jpg'\n",
        "predicted_person = predict_person(test_image_path)\n",
        "print(f\"Predicted person: {predicted_person}\")\n"
      ],
      "metadata": {
        "colab": {
          "base_uri": "https://localhost:8080/"
        },
        "id": "EOXeCFlkQpPN",
        "outputId": "8449b9df-3e50-495a-bb92-cd15fd42af56"
      },
      "execution_count": 9,
      "outputs": [
        {
          "output_type": "stream",
          "name": "stdout",
          "text": [
            "1/1 [==============================] - 0s 373ms/step\n",
            "Predicted person: Vijay Deverakonda\n"
          ]
        }
      ]
    }
  ]
}